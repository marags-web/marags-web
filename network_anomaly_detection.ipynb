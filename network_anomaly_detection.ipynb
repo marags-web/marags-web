{
  "cells": [
    {
      "cell_type": "markdown",
      "metadata": {
        "id": "view-in-github",
        "colab_type": "text"
      },
      "source": [
        "<a href=\"https://colab.research.google.com/github/marags-web/marags-web/blob/main/network_anomaly_detection.ipynb\" target=\"_parent\"><img src=\"https://colab.research.google.com/assets/colab-badge.svg\" alt=\"Open In Colab\"/></a>"
      ]
    },
    {
      "cell_type": "markdown",
      "metadata": {
        "id": "VYgzJtB8Bkk7"
      },
      "source": [
        "# Network intrusion detection and classification"
      ]
    },
    {
      "cell_type": "markdown",
      "metadata": {
        "id": "Rxmd0FqTBkk8"
      },
      "source": [
        "### 1. Import dependencies"
      ]
    },
    {
      "cell_type": "code",
      "execution_count": null,
      "metadata": {
        "id": "BETZbPl9Bkk9"
      },
      "outputs": [],
      "source": [
        "import pandas as pd\n",
        "import numpy as np\n",
        "import matplotlib.pyplot as plt\n",
        "import tensorflow as tf\n",
        "from tensorflow import keras\n",
        "from keras.layers import Dense, Dropout\n",
        "from keras.models import Sequential\n",
        "from google.colab import drive"
      ]
    },
    {
      "cell_type": "code",
      "execution_count": null,
      "metadata": {
        "id": "lC_mYX9tCP12"
      },
      "outputs": [],
      "source": [
        "#drive.mount('/content/drive/') \n",
        "#path = '/content/drive/My Drive/Colab Notebooks/datasets/network_data_train.txt'\n",
        "url =  \"https://raw.githubusercontent.com/marags-web/marags-web/main/IDS/data/network_data_train.txt\"\n"
      ]
    },
    {
      "cell_type": "markdown",
      "metadata": {
        "id": "4bg67QBkBklD"
      },
      "source": [
        "### 2. Data Preprocessing"
      ]
    },
    {
      "cell_type": "code",
      "execution_count": null,
      "metadata": {
        "id": "TLudbtUQBklE"
      },
      "outputs": [],
      "source": [
        "# data does not have column headers, so define them\n",
        "headers = [\"duration\",\"protocol_type\",\"service\",\"flag\",\"src_bytes\",\n",
        "           \"dst_bytes\",\"land\",\"wrong_fragment\",\"urgent\",\"hot\",\n",
        "           \"num_failed_logins\",\"logged_in\",\"num_compromised\",\"root_shell\",\n",
        "           \"su_attempted\",\"num_root\",\"num_file_creations\",\"num_shells\",\n",
        "           \"num_access_files\",\"num_outbound_cmds\",\"is_host_login\",\n",
        "           \"is_guest_login\",\"count\",\"srv_count\",\"serror_rate\", \n",
        "           \"srv_serror_rate\",\"rerror_rate\",\"srv_rerror_rate\",\"same_srv_rate\", \n",
        "           \"diff_srv_rate\", \"srv_diff_host_rate\",\"dst_host_count\",\n",
        "           \"dst_host_srv_count\",\"dst_host_same_srv_rate\",\n",
        "           \"dst_host_diff_srv_rate\",\"dst_host_same_src_port_rate\",\n",
        "           \"dst_host_srv_diff_host_rate\",\"dst_host_serror_rate\",\n",
        "           \"dst_host_srv_serror_rate\",\"dst_host_rerror_rate\",\n",
        "           \"dst_host_srv_rerror_rate\",\"attack\", \"last_flag\"]\n",
        "\n",
        "# read csv\n",
        "data = pd.read_csv(url, names=headers)\n",
        "\n",
        "# choose relevent features\n",
        "features = ['duration','src_bytes','dst_bytes','num_file_creations', \n",
        "           'num_shells','num_failed_logins','wrong_fragment', \n",
        "           'urgent', 'is_guest_login', 'su_attempted', 'land', 'attack']\n",
        "df = data[features]"
      ]
    },
    {
      "cell_type": "code",
      "execution_count": null,
      "metadata": {
        "colab": {
          "base_uri": "https://localhost:8080/"
        },
        "id": "OCBlMUb9BklG",
        "outputId": "d48743bf-c795-4b45-918a-6323509ef504"
      },
      "outputs": [
        {
          "output_type": "stream",
          "name": "stdout",
          "text": [
            "   duration  src_bytes  dst_bytes  num_file_creations  num_shells  \\\n",
            "0         0        491          0                   0           0   \n",
            "1         0        146          0                   0           0   \n",
            "2         0          0          0                   0           0   \n",
            "3         0        232       8153                   0           0   \n",
            "4         0        199        420                   0           0   \n",
            "\n",
            "   num_failed_logins  wrong_fragment  urgent  is_guest_login  su_attempted  \\\n",
            "0                  0               0       0               0             0   \n",
            "1                  0               0       0               0             0   \n",
            "2                  0               0       0               0             0   \n",
            "3                  0               0       0               0             0   \n",
            "4                  0               0       0               0             0   \n",
            "\n",
            "   land   attack  \n",
            "0     0   normal  \n",
            "1     0   normal  \n",
            "2     0  neptune  \n",
            "3     0   normal  \n",
            "4     0   normal  \n"
          ]
        }
      ],
      "source": [
        "pd.set_option('display.max_columns', None)\n",
        "print(df.head())"
      ]
    },
    {
      "cell_type": "code",
      "execution_count": null,
      "metadata": {
        "colab": {
          "base_uri": "https://localhost:8080/"
        },
        "id": "yDTRZxDxBklK",
        "outputId": "8f0b32ee-2de5-4428-ee3a-2edaed4f68e6"
      },
      "outputs": [
        {
          "output_type": "stream",
          "name": "stderr",
          "text": [
            "/usr/local/lib/python3.7/dist-packages/pandas/core/generic.py:6619: SettingWithCopyWarning: \n",
            "A value is trying to be set on a copy of a slice from a DataFrame\n",
            "\n",
            "See the caveats in the documentation: https://pandas.pydata.org/pandas-docs/stable/user_guide/indexing.html#returning-a-view-versus-a-copy\n",
            "  return self._update_inplace(result)\n"
          ]
        }
      ],
      "source": [
        "class_labels = ['normal', 'dos', 'probing', 'u2r', 'r2l']\n",
        "\n",
        "# data has too many classes\n",
        "# to simplify problem, categorize them generic network attack types : Probing, U2R, R2L, and DOS\n",
        "\n",
        "dos = ['neptune', 'apache2', 'processtable', 'smurf', 'back', 'snmpguess', 'mailbomb', 'snmpgetattack',\n",
        "              'pod', 'multihop', 'teardrop', 'sqlattack', 'land']\n",
        "probing = ['mscan', 'satan', 'saint', 'portsweep', 'ipsweep', 'nmap', 'spy']\n",
        "u2r = ['buffer_overflow', 'ps', 'xterm', 'perl', 'loadmodule', 'imap']\n",
        "r2l = ['guess_passwd', 'warezmaster', 'httptunnel', 'named', 'sendmail', 'xlock','xsnoop', 'rootkit', \n",
        "       'ftp_write', 'worm', 'phf', 'udpstorm', 'warezclient']\n",
        "\n",
        "# replace all values in dataframe with corresponding int value\n",
        "\n",
        "df['attack'].replace('normal', 0, inplace=True)\n",
        "df['attack'].replace(dos, 1, inplace=True)\n",
        "df['attack'].replace(probing, 2, inplace=True)\n",
        "df['attack'].replace(u2r, 3, inplace=True)\n",
        "df['attack'].replace(r2l, 4, inplace=True)\n",
        "\n",
        "# shuffle the data\n",
        "df = df.sample(frac=1).reset_index(drop=True)"
      ]
    },
    {
      "cell_type": "code",
      "execution_count": null,
      "metadata": {
        "colab": {
          "base_uri": "https://localhost:8080/"
        },
        "id": "JCkU_Ps3D7RB",
        "outputId": "53f1dab7-575c-48a0-953e-d235ce27686d"
      },
      "outputs": [
        {
          "output_type": "execute_result",
          "data": {
            "text/plain": [
              "0    67343\n",
              "1    45934\n",
              "2    11658\n",
              "4      985\n",
              "3       53\n",
              "Name: attack, dtype: int64"
            ]
          },
          "metadata": {},
          "execution_count": 6
        }
      ],
      "source": [
        "df['attack'].value_counts()"
      ]
    },
    {
      "cell_type": "code",
      "execution_count": null,
      "metadata": {
        "colab": {
          "base_uri": "https://localhost:8080/"
        },
        "id": "631ihDRvBklN",
        "outputId": "f3b74797-3dfd-4e38-ea93-751bbbc70bb5"
      },
      "outputs": [
        {
          "output_type": "stream",
          "name": "stdout",
          "text": [
            "(125973, 11)\n",
            "(125973, 1)\n"
          ]
        }
      ],
      "source": [
        "# split data into inputs/outputs\n",
        "features = df[['duration','src_bytes','dst_bytes','num_file_creations', \n",
        "           'num_shells','num_failed_logins','wrong_fragment', \n",
        "           'urgent', 'is_guest_login', 'su_attempted', 'land']]\n",
        "labels = df['attack']\n",
        "\n",
        "X = np.array(features)\n",
        "y = np.array(labels).reshape(-1, 1)\n",
        "\n",
        "# make sure both arrays have correct dimensions\n",
        "print(X.shape)\n",
        "print(y.shape)"
      ]
    },
    {
      "cell_type": "code",
      "source": [
        "np.unique(y)"
      ],
      "metadata": {
        "colab": {
          "base_uri": "https://localhost:8080/"
        },
        "id": "gDAMchl9-cjW",
        "outputId": "c3c405c4-12b0-44a7-ee2c-8e9e26db7397"
      },
      "execution_count": null,
      "outputs": [
        {
          "output_type": "execute_result",
          "data": {
            "text/plain": [
              "array([0, 1, 2, 3, 4])"
            ]
          },
          "metadata": {},
          "execution_count": 8
        }
      ]
    },
    {
      "cell_type": "markdown",
      "metadata": {
        "id": "xQGEDZmeBklQ"
      },
      "source": [
        "### 3. Buidling the model"
      ]
    },
    {
      "cell_type": "code",
      "execution_count": null,
      "metadata": {
        "id": "GQLlT-d7BklR"
      },
      "outputs": [],
      "source": [
        "import timeit\n",
        "\n",
        "start = timeit.default_timer()\n",
        "\n",
        "model = Sequential()\n",
        "\n",
        "model.add(Dense(units=32, activation='relu', input_dim=(11)))\n",
        "\n",
        "model.add(Dense(units=24, activation='relu'))\n",
        "model.add(Dropout(.2))\n",
        "\n",
        "model.add(Dense(units=11, activation='relu'))\n",
        "model.add(Dropout(.2))\n",
        "\n",
        "model.add(Dense(units=8, activation='relu'))\n",
        "\n",
        "model.add(Dense(units=5, activation='softmax'))\n",
        "\n",
        "model.compile(loss='sparse_categorical_crossentropy', optimizer=\"adam\", metrics=['accuracy'],run_eagerly=True)\n",
        "\n"
      ]
    },
    {
      "cell_type": "code",
      "execution_count": null,
      "metadata": {
        "colab": {
          "base_uri": "https://localhost:8080/"
        },
        "id": "ZiKseKHrIGfF",
        "outputId": "c3039182-1516-4561-d34a-06f0e0f7e775"
      },
      "outputs": [
        {
          "output_type": "stream",
          "name": "stdout",
          "text": [
            "Epoch 1/10\n",
            "3937/3937 [==============================] - 95s 24ms/step - loss: 226.9552 - accuracy: 0.7334\n",
            "Epoch 2/10\n",
            "3937/3937 [==============================] - 112s 28ms/step - loss: 115.9716 - accuracy: 0.7758\n",
            "Epoch 3/10\n",
            "3937/3937 [==============================] - 92s 23ms/step - loss: 21.4605 - accuracy: 0.7953\n",
            "Epoch 4/10\n",
            "3937/3937 [==============================] - 81s 21ms/step - loss: 9.2197 - accuracy: 0.8285\n",
            "Epoch 5/10\n",
            "3937/3937 [==============================] - 83s 21ms/step - loss: 55.2502 - accuracy: 0.8473\n",
            "Epoch 6/10\n",
            "3937/3937 [==============================] - 80s 20ms/step - loss: 1.3104 - accuracy: 0.8571\n",
            "Epoch 7/10\n",
            "3937/3937 [==============================] - 76s 19ms/step - loss: 0.5119 - accuracy: 0.8697\n",
            "Epoch 8/10\n",
            "3937/3937 [==============================] - 88s 22ms/step - loss: 0.4162 - accuracy: 0.8762\n",
            "Epoch 9/10\n",
            "3937/3937 [==============================] - 93s 24ms/step - loss: 0.4446 - accuracy: 0.8771\n",
            "Epoch 10/10\n",
            "3937/3937 [==============================] - 81s 20ms/step - loss: 3.8531 - accuracy: 0.8789\n",
            "Time:  882.193053778\n"
          ]
        }
      ],
      "source": [
        "model.fit(X, y, epochs=10, batch_size=32)\n",
        "stop = timeit.default_timer()\n",
        "print('Time: ', stop - start)  "
      ]
    },
    {
      "cell_type": "code",
      "execution_count": null,
      "metadata": {
        "id": "qyDTiD8wIeeG",
        "colab": {
          "base_uri": "https://localhost:8080/"
        },
        "outputId": "90bfb8cf-5c2a-4e6a-f4b1-c7edf0e5870c"
      },
      "outputs": [
        {
          "output_type": "stream",
          "name": "stdout",
          "text": [
            "3937/3937 [==============================] - 44s 11ms/step - loss: 0.3954 - accuracy: 0.8865\n"
          ]
        }
      ],
      "source": [
        "test_path = 'url =  \"https://raw.githubusercontent.com/marags-web/marags-web/main/IDS/data/network_data_test.txt'\n",
        "\n",
        "test = pd.read_csv(url, names=headers)\n",
        "\n",
        "features = ['duration','src_bytes','dst_bytes','num_file_creations', \n",
        "           'num_shells','num_failed_logins','wrong_fragment', \n",
        "           'urgent', 'is_guest_login', 'su_attempted', 'land', 'attack']\n",
        "\n",
        "test = test[features]\n",
        "\n",
        "test['attack'].replace('normal', 0, inplace=True)\n",
        "test['attack'].replace('dos', 1, inplace=True)\n",
        "test['attack'].replace('probing', 2, inplace=True)\n",
        "test['attack'].replace('u2r', 3, inplace=True)\n",
        "test['attack'].replace('r2l', 4, inplace=True)\n",
        "\n",
        "X_test, y_test = df.drop('attack', axis=1), df['attack']\n",
        "\n",
        "val_loss, val_acc = model.evaluate(X_test, y_test) \n",
        "\n"
      ]
    },
    {
      "cell_type": "code",
      "execution_count": null,
      "metadata": {
        "colab": {
          "base_uri": "https://localhost:8080/"
        },
        "id": "K52yOyIAKQ_f",
        "outputId": "bf7636be-d12b-43f3-d49f-1761d3c3d6da"
      },
      "outputs": [
        {
          "output_type": "stream",
          "name": "stdout",
          "text": [
            "0.8865153789520264\n",
            "0.3953530192375183\n"
          ]
        }
      ],
      "source": [
        "print(val_acc)\n",
        "print(val_loss)"
      ]
    },
    {
      "cell_type": "markdown",
      "metadata": {
        "id": "yicGvcifSvp9"
      },
      "source": [
        "#### 88% Accuracy on validation data"
      ]
    },
    {
      "cell_type": "code",
      "execution_count": null,
      "metadata": {
        "id": "CKciRL24LUH6",
        "colab": {
          "base_uri": "https://localhost:8080/"
        },
        "outputId": "9a8fa931-8071-4f23-9b94-0cc4c2e7dd7b"
      },
      "outputs": [
        {
          "output_type": "stream",
          "name": "stdout",
          "text": [
            "1/1 [==============================] - 0s 35ms/step\n",
            "Time:  0.10627293599998211\n",
            "Predicted Value: normal\n",
            "Actual Value: normal\n"
          ]
        }
      ],
      "source": [
        "# generate a random index to make a prediction on\n",
        "import random\n",
        "import numpy \n",
        "import time \n",
        "import timeit\n",
        "from sklearn.metrics import ConfusionMatrixDisplay, confusion_matrix\n",
        "import matplotlib.pyplot as plt\n",
        "\n",
        "FONT_SIZE = 12\n",
        "start = timeit.default_timer()\n",
        "prediction_index = random.randint(0, len(X_test))\n",
        "\n",
        "pred_input = np.array(list(X_test.iloc[prediction_index])).reshape(1, 11)\n",
        "prediction = class_labels[model.predict(pred_input).argmax()]\n",
        "actual = class_labels[y_test.iloc[prediction_index]]\n",
        "   \n",
        "stop = timeit.default_timer()\n",
        "print('Time: ', stop - start)  \n",
        "\n",
        "# compare prediction vs actual value\n",
        "print(f'Predicted Value: {prediction}')\n",
        "print(f'Actual Value: {actual}')"
      ]
    },
    {
      "cell_type": "code",
      "source": [
        "predictions = model.predict(X_test)\n",
        "predictions_labels = []\n",
        "for row in predictions:\n",
        "  predictions_labels.append(class_labels[row.argmax()])\n",
        "\n",
        "actual_labels = []\n",
        "for row in y_test:\n",
        "  actual_labels.append(class_labels[row])"
      ],
      "metadata": {
        "colab": {
          "base_uri": "https://localhost:8080/"
        },
        "id": "MUbIH6B_69Vb",
        "outputId": "8da46b2f-75ac-4654-8279-8de56db1c017"
      },
      "execution_count": null,
      "outputs": [
        {
          "output_type": "stream",
          "name": "stdout",
          "text": [
            "3937/3937 [==============================] - 17s 4ms/step\n"
          ]
        }
      ]
    },
    {
      "cell_type": "code",
      "source": [
        "cm = confusion_matrix(actual_labels, predictions_labels, labels=class_labels)\n",
        "disp = ConfusionMatrixDisplay(confusion_matrix=cm, display_labels=class_labels)\n",
        "disp.plot()\n",
        "plt.show()"
      ],
      "metadata": {
        "colab": {
          "base_uri": "https://localhost:8080/",
          "height": 279
        },
        "id": "dJLHVhToBXIx",
        "outputId": "57537799-e6f1-4422-ed62-bd9fa83a77ee"
      },
      "execution_count": null,
      "outputs": [
        {
          "output_type": "display_data",
          "data": {
            "text/plain": [
              "<Figure size 432x288 with 2 Axes>"
            ],
            "image/png": "[encoded data removed]"
          },
          "metadata": {
            "needs_background": "light"
          }
        }
      ]
    },
    {
      "cell_type": "code",
      "source": [
        "from sklearn import metrics\n",
        "\n",
        "Accuracy = metrics.accuracy_score(actual_labels, predictions_labels)\n",
        "print(\"Accuracy\",Accuracy)\n",
        "\n",
        "print(\"Numerical values for normal packets\")\n",
        "# TP for all classes\n",
        "TP = cm[0,0]\n",
        "print(\"True Positive\",cm[0,0])\n",
        "\n",
        "# FN for 'normal' \n",
        "FN = cm[0,1] + cm[0,2] \n",
        "print(\"False Negative\" ,FN)\n",
        "\n",
        "# FP for 'normal' \n",
        "FP = cm[1,0] + cm[1,2] \n",
        "print (\"False Positive\", FP)\n",
        "\n",
        "# TN for 'normal'\n",
        "TN = cm[1,1] + cm[1,2] + cm[2,1] +cm [2,2]\n",
        "print(\"True Negative\" ,TN)\n",
        "\n",
        "\n",
        "#Precision = TruePositives / (TruePositives + FalsePositives)\n",
        "Precision = TP/(TP+FP)\n",
        "print(\"Precision\" ,Precision)\n",
        "\n",
        "#Recall = TruePositives / (TruePositives + FalseNegatives)\n",
        "Recall =TP/(TP+FN)\n",
        "print (\"Recall\"  , Recall)\n",
        "\n",
        "#F1_score = metrics.f1_score(actual_labels, predictions_labels)\n",
        "F1_score = (2 * Precision * Recall) / (Precision + Recall)\n",
        "print (\"F1_score\" ,F1_score)"
      ],
      "metadata": {
        "colab": {
          "base_uri": "https://localhost:8080/"
        },
        "id": "SWJ68J6J_b2d",
        "outputId": "47bea2f3-0060-4118-b30c-1bde08ac3008"
      },
      "execution_count": null,
      "outputs": [
        {
          "output_type": "stream",
          "name": "stdout",
          "text": [
            "Accuracy 0.8865153644034833\n",
            "Numerical values for normal packets\n",
            "True Positive 63667\n",
            "False Negative 3676\n",
            "False Positive 3811\n",
            "True Negative 52220\n",
            "Precision 0.9435223332048964\n",
            "Recall 0.9454137772300016\n",
            "F1_score 0.9444671082398143\n"
          ]
        }
      ]
    },
    {
      "cell_type": "code",
      "source": [
        "print(\"Numerical values for DoS packets\")\n",
        "\n",
        "TP = cm[1,1]\n",
        "print(\"True Positive\", TP)\n",
        "\n",
        "# FN \n",
        "FN = cm[1,0] + cm[1,2] \n",
        "print(\"False Negative\" ,FN)\n",
        "\n",
        "# FP \n",
        "FP = cm[0,1] + cm[2,1] \n",
        "print (\"False Positive\", FP)\n",
        "\n",
        "# TN \n",
        "TN = cm[0,0] + cm[0,2] + cm[2,0] +cm [2,2]\n",
        "print(\"True Negative\" ,TN)\n",
        "\n",
        "\n",
        "#Precision = TruePositives / (TruePositives + FalsePositives)\n",
        "Precision = TP/(TP+FP)\n",
        "print(\"Precision\" ,Precision)\n",
        "\n",
        "#Recall = TruePositives / (TruePositives + FalseNegatives)\n",
        "Recall =TP/(TP+FN)\n",
        "print (\"Recall\"  , Recall)\n",
        "\n",
        "#F1_score = metrics.f1_score(actual_labels, predictions_labels)\n",
        "F1_score = (2 * Precision * Recall) / (Precision + Recall)\n",
        "print (\"F1_score\" ,F1_score)"
      ],
      "metadata": {
        "colab": {
          "base_uri": "https://localhost:8080/"
        },
        "id": "pARyDBbAsTHH",
        "outputId": "79901101-4d46-4172-8a5e-4cd52fe96353"
      },
      "execution_count": null,
      "outputs": [
        {
          "output_type": "stream",
          "name": "stdout",
          "text": [
            "Numerical values for DoS packets\n",
            "True Positive 42123\n",
            "False Negative 3811\n",
            "False Positive 7393\n",
            "True Negative 71608\n",
            "Precision 0.850694724937394\n",
            "Recall 0.9170331344973223\n",
            "F1_score 0.8826191723415401\n"
          ]
        }
      ]
    },
    {
      "cell_type": "code",
      "source": [
        "print(\"Numerical values for Probing packets\")\n",
        "\n",
        "TP = cm[2,2]\n",
        "print(\"True Positive\", TP)\n",
        "\n",
        "# FN \n",
        "FN = cm[2,1] + cm[2,2] \n",
        "print(\"False Negative\" ,FN)\n",
        "\n",
        "# FP \n",
        "FP = cm[0,2] + cm[1,2] \n",
        "print (\"False Positive\", FP)\n",
        "\n",
        "# TN \n",
        "TN = cm[0,0] + cm[0,1] + cm[1,0] +cm [1,1]\n",
        "print(\"True Negative\" ,TN)\n",
        "\n",
        "\n",
        "#Precision = TruePositives / (TruePositives + FalsePositives)\n",
        "Precision = TP/(TP+FP)\n",
        "print(\"Precision\" ,Precision)\n",
        "\n",
        "#Recall = TruePositives / (TruePositives + FalseNegatives)\n",
        "Recall =TP/(TP+FN)\n",
        "print (\"Recall\"  , Recall)\n",
        "\n",
        "#F1_score = metrics.f1_score(actual_labels, predictions_labels)\n",
        "F1_score = (2 * Precision * Recall) / (Precision + Recall)\n",
        "print (\"F1_score\" ,F1_score)"
      ],
      "metadata": {
        "colab": {
          "base_uri": "https://localhost:8080/"
        },
        "id": "G4SZXkM_uXjU",
        "outputId": "74e646ce-601d-44b0-fda7-aa48a00267e4"
      },
      "execution_count": null,
      "outputs": [
        {
          "output_type": "stream",
          "name": "stdout",
          "text": [
            "Numerical values for Probing packets\n",
            "True Positive 5887\n",
            "False Negative 10097\n",
            "False Positive 493\n",
            "True Negative 112784\n",
            "Precision 0.9227272727272727\n",
            "Recall 0.3683058058058058\n",
            "F1_score 0.5264711142908245\n"
          ]
        }
      ]
    }
  ],
  "metadata": {
    "accelerator": "GPU",
    "colab": {
      "provenance": [],
      "include_colab_link": true
    },
    "kernelspec": {
      "display_name": "Python 3",
      "name": "python3"
    },
    "language_info": {
      "codemirror_mode": {
        "name": "ipython",
        "version": 3
      },
      "file_extension": ".py",
      "mimetype": "text/x-python",
      "name": "python",
      "nbconvert_exporter": "python",
      "pygments_lexer": "ipython3",
      "version": "3.6.7"
    }
  },
  "nbformat": 4,
  "nbformat_minor": 0
}