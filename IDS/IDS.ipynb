{
  "nbformat": 4,
  "nbformat_minor": 0,
  "metadata": {
    "colab": {
      "provenance": [],
      "collapsed_sections": [],
      "include_colab_link": true
    },
    "language_info": {
      "codemirror_mode": {
        "name": "ipython",
        "version": 3
      },
      "file_extension": ".py",
      "mimetype": "text/x-python",
      "name": "python",
      "nbconvert_exporter": "python",
      "pygments_lexer": "ipython3",
      "version": "3.6.7"
    },
    "kernelspec": {
      "name": "python3",
      "display_name": "Python 3"
    },
    "accelerator": "GPU"
  },
  "cells": [
    {
      "cell_type": "markdown",
      "metadata": {
        "id": "view-in-github",
        "colab_type": "text"
      },
      "source": [
        "<a href=\"https://colab.research.google.com/github/marags-web/marags-web/blob/main/IDS/IDS.ipynb\" target=\"_parent\"><img src=\"https://colab.research.google.com/assets/colab-badge.svg\" alt=\"Open In Colab\"/></a>"
      ]
    },
    {
      "cell_type": "markdown",
      "metadata": {
        "id": "VYgzJtB8Bkk7"
      },
      "source": [
        "# Network intrusion detection and classification"
      ]
    },
    {
      "cell_type": "markdown",
      "metadata": {
        "id": "Rxmd0FqTBkk8"
      },
      "source": [
        "### 1. Import dependencies"
      ]
    },
    {
      "cell_type": "code",
      "metadata": {
        "id": "BETZbPl9Bkk9"
      },
      "source": [
        "import pandas as pd\n",
        "import numpy as np\n",
        "import matplotlib.pyplot as plt\n",
        "import tensorflow as tf\n",
        "from tensorflow import keras\n",
        "from keras.layers import Dense, Dropout\n",
        "from keras.models import Sequential\n",
        "from google.colab import drive"
      ],
      "execution_count": 2,
      "outputs": []
    },
    {
      "cell_type": "code",
      "metadata": {
        "id": "lC_mYX9tCP12"
      },
      "source": [
        "#drive.mount('/content/drive/') \n",
        "#path = '/content/drive/My Drive/Colab Notebooks/datasets/network_data_train.txt'\n",
        "url =  \"https://raw.githubusercontent.com/marags-web/marags-web/main/IDS/data/network_data_train.txt\"\n"
      ],
      "execution_count": 3,
      "outputs": []
    },
    {
      "cell_type": "markdown",
      "metadata": {
        "id": "4bg67QBkBklD"
      },
      "source": [
        "### 2. Data Preprocessing"
      ]
    },
    {
      "cell_type": "code",
      "metadata": {
        "id": "TLudbtUQBklE"
      },
      "source": [
        "# data does not have column headers, so define them\n",
        "headers = [\"duration\",\"protocol_type\",\"service\",\"flag\",\"src_bytes\",\n",
        "           \"dst_bytes\",\"land\",\"wrong_fragment\",\"urgent\",\"hot\",\n",
        "           \"num_failed_logins\",\"logged_in\",\"num_compromised\",\"root_shell\",\n",
        "           \"su_attempted\",\"num_root\",\"num_file_creations\",\"num_shells\",\n",
        "           \"num_access_files\",\"num_outbound_cmds\",\"is_host_login\",\n",
        "           \"is_guest_login\",\"count\",\"srv_count\",\"serror_rate\", \n",
        "           \"srv_serror_rate\",\"rerror_rate\",\"srv_rerror_rate\",\"same_srv_rate\", \n",
        "           \"diff_srv_rate\", \"srv_diff_host_rate\",\"dst_host_count\",\n",
        "           \"dst_host_srv_count\",\"dst_host_same_srv_rate\",\n",
        "           \"dst_host_diff_srv_rate\",\"dst_host_same_src_port_rate\",\n",
        "           \"dst_host_srv_diff_host_rate\",\"dst_host_serror_rate\",\n",
        "           \"dst_host_srv_serror_rate\",\"dst_host_rerror_rate\",\n",
        "           \"dst_host_srv_rerror_rate\",\"attack\", \"last_flag\"]\n",
        "\n",
        "# read csv\n",
        "data = pd.read_csv(url, names=headers)\n",
        "\n",
        "# choose relevent features\n",
        "features = ['duration','src_bytes','dst_bytes','num_file_creations', \n",
        "           'num_shells','num_failed_logins','wrong_fragment', \n",
        "           'urgent', 'is_guest_login', 'su_attempted', 'land', 'attack']\n",
        "df = data[features]"
      ],
      "execution_count": 4,
      "outputs": []
    },
    {
      "cell_type": "code",
      "metadata": {
        "id": "OCBlMUb9BklG",
        "outputId": "70f9f7ce-cf23-41e5-bcd7-66b4e1389766",
        "colab": {
          "base_uri": "https://localhost:8080/"
        }
      },
      "source": [
        "pd.set_option('display.max_columns', None)\n",
        "print(df.head())"
      ],
      "execution_count": 5,
      "outputs": [
        {
          "output_type": "stream",
          "name": "stdout",
          "text": [
            "   duration  src_bytes  dst_bytes  num_file_creations  num_shells  \\\n",
            "0         0        491          0                   0           0   \n",
            "1         0        146          0                   0           0   \n",
            "2         0          0          0                   0           0   \n",
            "3         0        232       8153                   0           0   \n",
            "4         0        199        420                   0           0   \n",
            "\n",
            "   num_failed_logins  wrong_fragment  urgent  is_guest_login  su_attempted  \\\n",
            "0                  0               0       0               0             0   \n",
            "1                  0               0       0               0             0   \n",
            "2                  0               0       0               0             0   \n",
            "3                  0               0       0               0             0   \n",
            "4                  0               0       0               0             0   \n",
            "\n",
            "   land   attack  \n",
            "0     0   normal  \n",
            "1     0   normal  \n",
            "2     0  neptune  \n",
            "3     0   normal  \n",
            "4     0   normal  \n"
          ]
        }
      ]
    },
    {
      "cell_type": "code",
      "metadata": {
        "id": "yDTRZxDxBklK",
        "colab": {
          "base_uri": "https://localhost:8080/"
        },
        "outputId": "24a628be-a227-4872-cd2b-8be32752429e"
      },
      "source": [
        "class_labels = ['normal', 'dos', 'probing', 'u2r', 'r2l']\n",
        "\n",
        "# data has too many classes\n",
        "# to simplify problem, categorize them generic network attack types : Probing, U2R, R2L, and DOS\n",
        "\n",
        "dos = ['neptune', 'apache2', 'processtable', 'smurf', 'back', 'snmpguess', 'mailbomb', 'snmpgetattack',\n",
        "              'pod', 'multihop', 'teardrop', 'sqlattack', 'land']\n",
        "probing = ['mscan', 'satan', 'saint', 'portsweep', 'ipsweep', 'nmap', 'spy']\n",
        "u2r = ['buffer_overflow', 'ps', 'xterm', 'perl', 'loadmodule', 'imap']\n",
        "r2l = ['guess_passwd', 'warezmaster', 'httptunnel', 'named', 'sendmail', 'xlock','xsnoop', 'rootkit', \n",
        "       'ftp_write', 'worm', 'phf', 'udpstorm', 'warezclient']\n",
        "\n",
        "# replace all values in dataframe with corresponding int value\n",
        "\n",
        "df['attack'].replace('normal', 0, inplace=True)\n",
        "df['attack'].replace(dos, 1, inplace=True)\n",
        "df['attack'].replace(probing, 2, inplace=True)\n",
        "df['attack'].replace(u2r, 3, inplace=True)\n",
        "df['attack'].replace(r2l, 4, inplace=True)\n",
        "\n",
        "# shuffle the data\n",
        "df = df.sample(frac=1).reset_index(drop=True)"
      ],
      "execution_count": 6,
      "outputs": [
        {
          "output_type": "stream",
          "name": "stderr",
          "text": [
            "/usr/local/lib/python3.7/dist-packages/pandas/core/generic.py:6619: SettingWithCopyWarning: \n",
            "A value is trying to be set on a copy of a slice from a DataFrame\n",
            "\n",
            "See the caveats in the documentation: https://pandas.pydata.org/pandas-docs/stable/user_guide/indexing.html#returning-a-view-versus-a-copy\n",
            "  return self._update_inplace(result)\n"
          ]
        }
      ]
    },
    {
      "cell_type": "code",
      "metadata": {
        "id": "JCkU_Ps3D7RB",
        "outputId": "ce0a64d9-e4f5-4f00-94f9-b03d2462dd42",
        "colab": {
          "base_uri": "https://localhost:8080/"
        }
      },
      "source": [
        "df['attack'].value_counts()"
      ],
      "execution_count": 7,
      "outputs": [
        {
          "output_type": "execute_result",
          "data": {
            "text/plain": [
              "0    67343\n",
              "1    45934\n",
              "2    11658\n",
              "4      985\n",
              "3       53\n",
              "Name: attack, dtype: int64"
            ]
          },
          "metadata": {},
          "execution_count": 7
        }
      ]
    },
    {
      "cell_type": "code",
      "metadata": {
        "id": "631ihDRvBklN",
        "outputId": "adbe66ba-5431-44c3-fd60-ffe5f63d0e7e",
        "colab": {
          "base_uri": "https://localhost:8080/"
        }
      },
      "source": [
        "# split data into inputs/outputs\n",
        "features = df[['duration','src_bytes','dst_bytes','num_file_creations', \n",
        "           'num_shells','num_failed_logins','wrong_fragment', \n",
        "           'urgent', 'is_guest_login', 'su_attempted', 'land']]\n",
        "labels = df['attack']\n",
        "\n",
        "X = np.array(features)\n",
        "y = np.array(labels).reshape(-1, 1)\n",
        "\n",
        "# make sure both arrays have correct dimensions\n",
        "print(X.shape)\n",
        "print(y.shape)"
      ],
      "execution_count": 8,
      "outputs": [
        {
          "output_type": "stream",
          "name": "stdout",
          "text": [
            "(125973, 11)\n",
            "(125973, 1)\n"
          ]
        }
      ]
    },
    {
      "cell_type": "markdown",
      "metadata": {
        "id": "xQGEDZmeBklQ"
      },
      "source": [
        "### 3. Buidling the model"
      ]
    },
    {
      "cell_type": "code",
      "metadata": {
        "id": "GQLlT-d7BklR"
      },
      "source": [
        "model = Sequential()\n",
        "\n",
        "model.add(Dense(units=32, activation='relu', input_dim=(11)))\n",
        "\n",
        "model.add(Dense(units=24, activation='relu'))\n",
        "model.add(Dropout(.2))\n",
        "\n",
        "model.add(Dense(units=11, activation='relu'))\n",
        "model.add(Dropout(.2))\n",
        "\n",
        "model.add(Dense(units=8, activation='relu'))\n",
        "\n",
        "model.add(Dense(units=5, activation='softmax'))\n",
        "\n",
        "model.compile(loss='sparse_categorical_crossentropy', optimizer=\"adam\", metrics=['accuracy'],run_eagerly=True)"
      ],
      "execution_count": 9,
      "outputs": []
    },
    {
      "cell_type": "code",
      "metadata": {
        "id": "ZiKseKHrIGfF",
        "outputId": "97ccaa4c-fad0-490a-df59-0b9b7501c4c6",
        "colab": {
          "base_uri": "https://localhost:8080/"
        }
      },
      "source": [
        "model.fit(X, y, epochs=10, batch_size=32)"
      ],
      "execution_count": 10,
      "outputs": [
        {
          "output_type": "stream",
          "name": "stdout",
          "text": [
            "Epoch 1/10\n",
            "3937/3937 [==============================] - 72s 18ms/step - loss: 425.6548 - accuracy: 0.6809\n",
            "Epoch 2/10\n",
            "3937/3937 [==============================] - 70s 18ms/step - loss: 11.7928 - accuracy: 0.8070\n",
            "Epoch 3/10\n",
            "3937/3937 [==============================] - 71s 18ms/step - loss: 9.3976 - accuracy: 0.8276\n",
            "Epoch 4/10\n",
            "3937/3937 [==============================] - 70s 18ms/step - loss: 2.4005 - accuracy: 0.8562\n",
            "Epoch 5/10\n",
            "3937/3937 [==============================] - 69s 18ms/step - loss: 0.7760 - accuracy: 0.8666\n",
            "Epoch 6/10\n",
            "3937/3937 [==============================] - 71s 18ms/step - loss: 0.6564 - accuracy: 0.8698\n",
            "Epoch 7/10\n",
            "3937/3937 [==============================] - 67s 17ms/step - loss: 0.4742 - accuracy: 0.8721\n",
            "Epoch 8/10\n",
            "3937/3937 [==============================] - 68s 17ms/step - loss: 0.4581 - accuracy: 0.8724\n",
            "Epoch 9/10\n",
            "3937/3937 [==============================] - 66s 17ms/step - loss: 0.4198 - accuracy: 0.8731\n",
            "Epoch 10/10\n",
            "3937/3937 [==============================] - 67s 17ms/step - loss: 0.4249 - accuracy: 0.8768\n"
          ]
        },
        {
          "output_type": "execute_result",
          "data": {
            "text/plain": [
              "<keras.callbacks.History at 0x7f44906459d0>"
            ]
          },
          "metadata": {},
          "execution_count": 10
        }
      ]
    },
    {
      "cell_type": "code",
      "metadata": {
        "id": "qyDTiD8wIeeG",
        "outputId": "99cfc600-e3b7-4f2e-8867-d394d7f76289",
        "colab": {
          "base_uri": "https://localhost:8080/"
        }
      },
      "source": [
        "test_path = 'url =  \"https://raw.githubusercontent.com/marags-web/marags-web/main/IDS/data/network_data_test.txt'\n",
        "\n",
        "test = pd.read_csv(url, names=headers)\n",
        "\n",
        "features = ['duration','src_bytes','dst_bytes','num_file_creations', \n",
        "           'num_shells','num_failed_logins','wrong_fragment', \n",
        "           'urgent', 'is_guest_login', 'su_attempted', 'land', 'attack']\n",
        "\n",
        "test = test[features]\n",
        "\n",
        "test['attack'].replace('normal', 0, inplace=True)\n",
        "test['attack'].replace(dos, 1, inplace=True)\n",
        "test['attack'].replace(probing, 2, inplace=True)\n",
        "test['attack'].replace(u2r, 3, inplace=True)\n",
        "test['attack'].replace(r2l, 4, inplace=True)\n",
        "\n",
        "X_test, y_test = df.drop('attack', axis=1), df['attack']\n",
        "\n",
        "val_loss, val_acc = model.evaluate(X_test, y_test) "
      ],
      "execution_count": 11,
      "outputs": [
        {
          "output_type": "stream",
          "name": "stdout",
          "text": [
            "3937/3937 [==============================] - 39s 10ms/step - loss: 0.3988 - accuracy: 0.8865\n"
          ]
        }
      ]
    },
    {
      "cell_type": "code",
      "metadata": {
        "id": "K52yOyIAKQ_f",
        "outputId": "86a07ed4-c0ff-43ac-f7c6-0c4832b8cf13",
        "colab": {
          "base_uri": "https://localhost:8080/"
        }
      },
      "source": [
        "print(val_acc)\n",
        "print(val_loss)"
      ],
      "execution_count": 12,
      "outputs": [
        {
          "output_type": "stream",
          "name": "stdout",
          "text": [
            "0.8865153789520264\n",
            "0.39880964159965515\n"
          ]
        }
      ]
    },
    {
      "cell_type": "markdown",
      "metadata": {
        "id": "yicGvcifSvp9"
      },
      "source": [
        "#### 88% Accuracy on validation data"
      ]
    },
    {
      "cell_type": "code",
      "metadata": {
        "id": "CKciRL24LUH6",
        "outputId": "23be6551-6794-4eb5-8c3d-e21b18bbaabe",
        "colab": {
          "base_uri": "https://localhost:8080/"
        }
      },
      "source": [
        "# generate a random index to make a prediction on\n",
        "import random\n",
        "prediction_index = random.randint(0, len(X_test))\n",
        "\n",
        "# make prediction\n",
        "pred_input = np.array(list(X_test.iloc[prediction_index])).reshape(1, 11)\n",
        "prediction = class_labels[model.predict( pred_input ).argmax()]\n",
        "actual = class_labels[y_test.iloc[prediction_index]]\n",
        "\n",
        "# compare prediction vs actual value\n",
        "print(f'Predicted Value: {prediction}')\n",
        "print(f'Actual Value: {actual}')"
      ],
      "execution_count": 13,
      "outputs": [
        {
          "output_type": "stream",
          "name": "stdout",
          "text": [
            "1/1 [==============================] - 0s 40ms/step\n",
            "Predicted Value: normal\n",
            "Actual Value: normal\n"
          ]
        }
      ]
    }
  ]
}